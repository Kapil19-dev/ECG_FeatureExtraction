{
 "cells": [
  {
   "cell_type": "markdown",
   "metadata": {},
   "source": [
    "# ECG Feature Extractor\n",
    "## 2017 Physionet Challenge\n",
    "### Sebastian D. Goodfellow, Ph.D."
   ]
  },
  {
   "cell_type": "markdown",
   "metadata": {},
   "source": [
    "# Setup Notebook"
   ]
  },
  {
   "cell_type": "code",
   "execution_count": 151,
   "metadata": {
    "scrolled": true
   },
   "outputs": [
    {
     "name": "stdout",
     "output_type": "stream",
     "text": [
      "The autoreload extension is already loaded. To reload it, use:\n",
      "  %reload_ext autoreload\n"
     ]
    }
   ],
   "source": [
    "# Import 3rd party libraries\n",
    "import os\n",
    "import sys\n",
    "import numpy as np\n",
    "import pandas as pd\n",
    "import matplotlib.pylab as plt\n",
    "\n",
    "# Import local Libraries\n",
    "sys.path.insert(0, os.path.dirname(os.getcwd()))\n",
    "from features.feature_extractor import Features\n",
    "from utils.plotting.waveforms import plot_waveforms\n",
    "\n",
    "# Configure Notebook\n",
    "import warnings\n",
    "warnings.filterwarnings('ignore')\n",
    "%matplotlib inline\n",
    "%load_ext autoreload\n",
    "%autoreload 2"
   ]
  },
  {
   "cell_type": "markdown",
   "metadata": {},
   "source": [
    "<br>\n",
    "# Set Constants"
   ]
  },
  {
   "cell_type": "code",
   "execution_count": 2,
   "metadata": {},
   "outputs": [],
   "source": [
    "# Sampling frequency (Hz)\n",
    "fs = 300  \n",
    "\n",
    "# Data paths\n",
    "label_path = os.path.join(os.path.dirname(os.getcwd()), 'data', 'labels')\n",
    "waveform_path = os.path.join(os.path.dirname(os.getcwd()), 'data', 'waveforms')\n",
    "feature_path = os.path.join(os.path.dirname(os.getcwd()), 'data', 'features')"
   ]
  },
  {
   "cell_type": "markdown",
   "metadata": {},
   "source": [
    "# Import ECG Labels"
   ]
  },
  {
   "cell_type": "code",
   "execution_count": 3,
   "metadata": {},
   "outputs": [
    {
     "data": {
      "text/html": [
       "<div>\n",
       "<style scoped>\n",
       "    .dataframe tbody tr th:only-of-type {\n",
       "        vertical-align: middle;\n",
       "    }\n",
       "\n",
       "    .dataframe tbody tr th {\n",
       "        vertical-align: top;\n",
       "    }\n",
       "\n",
       "    .dataframe thead th {\n",
       "        text-align: right;\n",
       "    }\n",
       "</style>\n",
       "<table border=\"1\" class=\"dataframe\">\n",
       "  <thead>\n",
       "    <tr style=\"text-align: right;\">\n",
       "      <th></th>\n",
       "      <th>file_name</th>\n",
       "      <th>label</th>\n",
       "    </tr>\n",
       "  </thead>\n",
       "  <tbody>\n",
       "    <tr>\n",
       "      <th>0</th>\n",
       "      <td>A00021</td>\n",
       "      <td>N</td>\n",
       "    </tr>\n",
       "    <tr>\n",
       "      <th>1</th>\n",
       "      <td>A00022</td>\n",
       "      <td>~</td>\n",
       "    </tr>\n",
       "    <tr>\n",
       "      <th>2</th>\n",
       "      <td>A00023</td>\n",
       "      <td>O</td>\n",
       "    </tr>\n",
       "    <tr>\n",
       "      <th>3</th>\n",
       "      <td>A00024</td>\n",
       "      <td>O</td>\n",
       "    </tr>\n",
       "    <tr>\n",
       "      <th>4</th>\n",
       "      <td>A00025</td>\n",
       "      <td>N</td>\n",
       "    </tr>\n",
       "    <tr>\n",
       "      <th>5</th>\n",
       "      <td>A00026</td>\n",
       "      <td>N</td>\n",
       "    </tr>\n",
       "    <tr>\n",
       "      <th>6</th>\n",
       "      <td>A00027</td>\n",
       "      <td>A</td>\n",
       "    </tr>\n",
       "    <tr>\n",
       "      <th>7</th>\n",
       "      <td>A00028</td>\n",
       "      <td>N</td>\n",
       "    </tr>\n",
       "    <tr>\n",
       "      <th>8</th>\n",
       "      <td>A00029</td>\n",
       "      <td>O</td>\n",
       "    </tr>\n",
       "    <tr>\n",
       "      <th>9</th>\n",
       "      <td>A00030</td>\n",
       "      <td>O</td>\n",
       "    </tr>\n",
       "  </tbody>\n",
       "</table>\n",
       "</div>"
      ],
      "text/plain": [
       "  file_name label\n",
       "0    A00021     N\n",
       "1    A00022     ~\n",
       "2    A00023     O\n",
       "3    A00024     O\n",
       "4    A00025     N\n",
       "5    A00026     N\n",
       "6    A00027     A\n",
       "7    A00028     N\n",
       "8    A00029     O\n",
       "9    A00030     O"
      ]
     },
     "execution_count": 3,
     "metadata": {},
     "output_type": "execute_result"
    }
   ],
   "source": [
    "# Read labels CSV\n",
    "labels = pd.read_csv(os.path.join(label_path, 'labels.csv'), names=['file_name', 'label'])\n",
    "\n",
    "# View DataFrame\n",
    "labels.head(10)"
   ]
  },
  {
   "cell_type": "markdown",
   "metadata": {},
   "source": [
    "# Plot ECG Waveforms"
   ]
  },
  {
   "cell_type": "code",
   "execution_count": 4,
   "metadata": {},
   "outputs": [
    {
     "data": {
      "application/vnd.jupyter.widget-view+json": {
       "model_id": "2c96ebd8c5de4f27968d70d85fa35fc1",
       "version_major": 2,
       "version_minor": 0
      },
      "text/plain": [
       "interactive(children=(IntSlider(value=4, description='index', max=9), Output()), _dom_classes=('widget-interac…"
      ]
     },
     "metadata": {},
     "output_type": "display_data"
    }
   ],
   "source": [
    "# Launch interactive plotting widget\n",
    "plot_waveforms(labels=labels, waveform_path=waveform_path, fs=fs)"
   ]
  },
  {
   "cell_type": "markdown",
   "metadata": {},
   "source": [
    "# Extract Features"
   ]
  },
  {
   "cell_type": "code",
   "execution_count": 5,
   "metadata": {},
   "outputs": [
    {
     "name": "stdout",
     "output_type": "stream",
     "text": [
      "Finished extracting features from A00021.mat | Extraction time: 0.004 minutes\n",
      "Finished extracting features from A00022.mat | Extraction time: 0.005 minutes\n",
      "Finished extracting features from A00023.mat | Extraction time: 0.004 minutes\n",
      "Finished extracting features from A00024.mat | Extraction time: 0.005 minutes\n",
      "Finished extracting features from A00025.mat | Extraction time: 0.005 minutes\n",
      "Finished extracting features from A00026.mat | Extraction time: 0.004 minutes\n",
      "Finished extracting features from A00027.mat | Extraction time: 0.005 minutes\n",
      "Finished extracting features from A00028.mat | Extraction time: 0.005 minutes\n",
      "Finished extracting features from A00029.mat | Extraction time: 0.003 minutes\n",
      "Finished extracting features from A00030.mat | Extraction time: 0.005 minutes\n"
     ]
    }
   ],
   "source": [
    "# Instantiate\n",
    "ecg_features = Features(file_path=waveform_path, fs=fs, feature_groups=['full_waveform_features'])\n",
    "\n",
    "# Calculate ECG features\n",
    "ecg_features.extract_features(\n",
    "    filter_bandwidth=[3, 45], n_signals=None, show=True, \n",
    "    labels=labels, normalize=True, polarity_check=True,\n",
    "    template_before=0.25, template_after=0.4\n",
    ")"
   ]
  },
  {
   "cell_type": "code",
   "execution_count": 6,
   "metadata": {},
   "outputs": [
    {
     "data": {
      "text/html": [
       "<div>\n",
       "<style scoped>\n",
       "    .dataframe tbody tr th:only-of-type {\n",
       "        vertical-align: middle;\n",
       "    }\n",
       "\n",
       "    .dataframe tbody tr th {\n",
       "        vertical-align: top;\n",
       "    }\n",
       "\n",
       "    .dataframe thead th {\n",
       "        text-align: right;\n",
       "    }\n",
       "</style>\n",
       "<table border=\"1\" class=\"dataframe\">\n",
       "  <thead>\n",
       "    <tr style=\"text-align: right;\">\n",
       "      <th></th>\n",
       "      <th>file_name</th>\n",
       "      <th>label</th>\n",
       "      <th>full_waveform_duration</th>\n",
       "      <th>full_waveform_kurtosis</th>\n",
       "      <th>full_waveform_max</th>\n",
       "      <th>full_waveform_mean</th>\n",
       "      <th>full_waveform_median</th>\n",
       "      <th>full_waveform_min</th>\n",
       "      <th>full_waveform_skew</th>\n",
       "      <th>full_waveform_std</th>\n",
       "      <th>...</th>\n",
       "      <th>swt_d_3_energy_entropy</th>\n",
       "      <th>swt_d_3_high_power_ratio</th>\n",
       "      <th>swt_d_3_higuchi_fractal</th>\n",
       "      <th>swt_d_3_low_power_ratio</th>\n",
       "      <th>swt_d_3_med_power_ratio</th>\n",
       "      <th>swt_d_4_energy_entropy</th>\n",
       "      <th>swt_d_4_high_power_ratio</th>\n",
       "      <th>swt_d_4_higuchi_fractal</th>\n",
       "      <th>swt_d_4_low_power_ratio</th>\n",
       "      <th>swt_d_4_med_power_ratio</th>\n",
       "    </tr>\n",
       "  </thead>\n",
       "  <tbody>\n",
       "    <tr>\n",
       "      <th>0</th>\n",
       "      <td>A00021</td>\n",
       "      <td>N</td>\n",
       "      <td>29.993334</td>\n",
       "      <td>17.586632</td>\n",
       "      <td>1.078687</td>\n",
       "      <td>-0.001071</td>\n",
       "      <td>-0.005645</td>\n",
       "      <td>-0.926257</td>\n",
       "      <td>1.123091</td>\n",
       "      <td>0.168382</td>\n",
       "      <td>...</td>\n",
       "      <td>-49257.007497</td>\n",
       "      <td>0.165148</td>\n",
       "      <td>1.603244</td>\n",
       "      <td>0.861031</td>\n",
       "      <td>0.106582</td>\n",
       "      <td>-67495.761089</td>\n",
       "      <td>0.112211</td>\n",
       "      <td>1.745630</td>\n",
       "      <td>0.876491</td>\n",
       "      <td>0.139795</td>\n",
       "    </tr>\n",
       "    <tr>\n",
       "      <th>1</th>\n",
       "      <td>A00022</td>\n",
       "      <td>~</td>\n",
       "      <td>29.993334</td>\n",
       "      <td>186.943393</td>\n",
       "      <td>11.336603</td>\n",
       "      <td>0.005920</td>\n",
       "      <td>-0.015021</td>\n",
       "      <td>-3.053789</td>\n",
       "      <td>8.539399</td>\n",
       "      <td>0.448065</td>\n",
       "      <td>...</td>\n",
       "      <td>-29308.911535</td>\n",
       "      <td>0.101234</td>\n",
       "      <td>1.681422</td>\n",
       "      <td>0.818841</td>\n",
       "      <td>0.103232</td>\n",
       "      <td>-47754.339321</td>\n",
       "      <td>0.122283</td>\n",
       "      <td>1.850699</td>\n",
       "      <td>0.833149</td>\n",
       "      <td>0.127526</td>\n",
       "    </tr>\n",
       "    <tr>\n",
       "      <th>2</th>\n",
       "      <td>A00023</td>\n",
       "      <td>O</td>\n",
       "      <td>29.993334</td>\n",
       "      <td>23.806715</td>\n",
       "      <td>1.084203</td>\n",
       "      <td>0.001047</td>\n",
       "      <td>-0.001793</td>\n",
       "      <td>-0.569955</td>\n",
       "      <td>3.847851</td>\n",
       "      <td>0.147708</td>\n",
       "      <td>...</td>\n",
       "      <td>-50412.226570</td>\n",
       "      <td>0.140089</td>\n",
       "      <td>1.652927</td>\n",
       "      <td>0.891568</td>\n",
       "      <td>0.118739</td>\n",
       "      <td>-68218.166248</td>\n",
       "      <td>0.098615</td>\n",
       "      <td>1.796991</td>\n",
       "      <td>0.905369</td>\n",
       "      <td>0.160293</td>\n",
       "    </tr>\n",
       "    <tr>\n",
       "      <th>3</th>\n",
       "      <td>A00024</td>\n",
       "      <td>O</td>\n",
       "      <td>29.993334</td>\n",
       "      <td>16.755881</td>\n",
       "      <td>1.127383</td>\n",
       "      <td>0.000431</td>\n",
       "      <td>-0.009887</td>\n",
       "      <td>-0.460385</td>\n",
       "      <td>3.331231</td>\n",
       "      <td>0.164943</td>\n",
       "      <td>...</td>\n",
       "      <td>-47704.749291</td>\n",
       "      <td>0.160745</td>\n",
       "      <td>1.552763</td>\n",
       "      <td>0.713365</td>\n",
       "      <td>0.086996</td>\n",
       "      <td>-66148.672913</td>\n",
       "      <td>0.106267</td>\n",
       "      <td>1.703458</td>\n",
       "      <td>0.729247</td>\n",
       "      <td>0.107630</td>\n",
       "    </tr>\n",
       "    <tr>\n",
       "      <th>4</th>\n",
       "      <td>A00025</td>\n",
       "      <td>N</td>\n",
       "      <td>29.993334</td>\n",
       "      <td>20.460997</td>\n",
       "      <td>1.099219</td>\n",
       "      <td>0.001304</td>\n",
       "      <td>-0.005782</td>\n",
       "      <td>-0.376020</td>\n",
       "      <td>3.705835</td>\n",
       "      <td>0.148803</td>\n",
       "      <td>...</td>\n",
       "      <td>-51189.042010</td>\n",
       "      <td>0.140490</td>\n",
       "      <td>1.629942</td>\n",
       "      <td>0.619724</td>\n",
       "      <td>0.101542</td>\n",
       "      <td>-69002.674228</td>\n",
       "      <td>0.097502</td>\n",
       "      <td>1.784161</td>\n",
       "      <td>0.633528</td>\n",
       "      <td>0.139208</td>\n",
       "    </tr>\n",
       "    <tr>\n",
       "      <th>5</th>\n",
       "      <td>A00026</td>\n",
       "      <td>N</td>\n",
       "      <td>29.993334</td>\n",
       "      <td>26.423581</td>\n",
       "      <td>1.088726</td>\n",
       "      <td>0.000484</td>\n",
       "      <td>-0.005873</td>\n",
       "      <td>-0.300124</td>\n",
       "      <td>4.351558</td>\n",
       "      <td>0.138428</td>\n",
       "      <td>...</td>\n",
       "      <td>-53693.449870</td>\n",
       "      <td>0.163446</td>\n",
       "      <td>1.598554</td>\n",
       "      <td>0.730220</td>\n",
       "      <td>0.104961</td>\n",
       "      <td>-72170.234663</td>\n",
       "      <td>0.110092</td>\n",
       "      <td>1.743084</td>\n",
       "      <td>0.746238</td>\n",
       "      <td>0.136632</td>\n",
       "    </tr>\n",
       "    <tr>\n",
       "      <th>6</th>\n",
       "      <td>A00027</td>\n",
       "      <td>A</td>\n",
       "      <td>29.993334</td>\n",
       "      <td>4.182249</td>\n",
       "      <td>1.142597</td>\n",
       "      <td>-0.004536</td>\n",
       "      <td>-0.008124</td>\n",
       "      <td>-1.261730</td>\n",
       "      <td>-0.093087</td>\n",
       "      <td>0.295540</td>\n",
       "      <td>...</td>\n",
       "      <td>-42018.523028</td>\n",
       "      <td>0.107055</td>\n",
       "      <td>1.604812</td>\n",
       "      <td>0.598398</td>\n",
       "      <td>0.115260</td>\n",
       "      <td>-60561.603002</td>\n",
       "      <td>0.098163</td>\n",
       "      <td>1.776238</td>\n",
       "      <td>0.612691</td>\n",
       "      <td>0.103083</td>\n",
       "    </tr>\n",
       "    <tr>\n",
       "      <th>7</th>\n",
       "      <td>A00028</td>\n",
       "      <td>N</td>\n",
       "      <td>59.993334</td>\n",
       "      <td>24.053043</td>\n",
       "      <td>1.058158</td>\n",
       "      <td>0.000643</td>\n",
       "      <td>-0.003022</td>\n",
       "      <td>-0.400153</td>\n",
       "      <td>4.127633</td>\n",
       "      <td>0.146124</td>\n",
       "      <td>...</td>\n",
       "      <td>-107837.970823</td>\n",
       "      <td>0.218004</td>\n",
       "      <td>1.514557</td>\n",
       "      <td>0.832327</td>\n",
       "      <td>0.092834</td>\n",
       "      <td>-144336.658169</td>\n",
       "      <td>0.156514</td>\n",
       "      <td>1.640446</td>\n",
       "      <td>0.846448</td>\n",
       "      <td>0.105700</td>\n",
       "    </tr>\n",
       "    <tr>\n",
       "      <th>8</th>\n",
       "      <td>A00029</td>\n",
       "      <td>O</td>\n",
       "      <td>29.993334</td>\n",
       "      <td>12.911929</td>\n",
       "      <td>1.201930</td>\n",
       "      <td>0.001085</td>\n",
       "      <td>0.008018</td>\n",
       "      <td>-1.129869</td>\n",
       "      <td>1.003582</td>\n",
       "      <td>0.204132</td>\n",
       "      <td>...</td>\n",
       "      <td>-43041.145948</td>\n",
       "      <td>0.145105</td>\n",
       "      <td>1.659092</td>\n",
       "      <td>0.654917</td>\n",
       "      <td>0.133569</td>\n",
       "      <td>-60798.823282</td>\n",
       "      <td>0.101870</td>\n",
       "      <td>1.794644</td>\n",
       "      <td>0.667569</td>\n",
       "      <td>0.176868</td>\n",
       "    </tr>\n",
       "    <tr>\n",
       "      <th>9</th>\n",
       "      <td>A00030</td>\n",
       "      <td>O</td>\n",
       "      <td>59.993334</td>\n",
       "      <td>17.591774</td>\n",
       "      <td>1.122591</td>\n",
       "      <td>-0.000551</td>\n",
       "      <td>-0.002507</td>\n",
       "      <td>-1.394709</td>\n",
       "      <td>0.832302</td>\n",
       "      <td>0.171259</td>\n",
       "      <td>...</td>\n",
       "      <td>-99939.554307</td>\n",
       "      <td>0.162480</td>\n",
       "      <td>1.610238</td>\n",
       "      <td>0.847671</td>\n",
       "      <td>0.107021</td>\n",
       "      <td>-136124.687363</td>\n",
       "      <td>0.113337</td>\n",
       "      <td>1.756203</td>\n",
       "      <td>0.861335</td>\n",
       "      <td>0.142411</td>\n",
       "    </tr>\n",
       "  </tbody>\n",
       "</table>\n",
       "<p>10 rows × 50 columns</p>\n",
       "</div>"
      ],
      "text/plain": [
       "  file_name label  full_waveform_duration  full_waveform_kurtosis  \\\n",
       "0    A00021     N               29.993334               17.586632   \n",
       "1    A00022     ~               29.993334              186.943393   \n",
       "2    A00023     O               29.993334               23.806715   \n",
       "3    A00024     O               29.993334               16.755881   \n",
       "4    A00025     N               29.993334               20.460997   \n",
       "5    A00026     N               29.993334               26.423581   \n",
       "6    A00027     A               29.993334                4.182249   \n",
       "7    A00028     N               59.993334               24.053043   \n",
       "8    A00029     O               29.993334               12.911929   \n",
       "9    A00030     O               59.993334               17.591774   \n",
       "\n",
       "   full_waveform_max  full_waveform_mean  full_waveform_median  \\\n",
       "0           1.078687           -0.001071             -0.005645   \n",
       "1          11.336603            0.005920             -0.015021   \n",
       "2           1.084203            0.001047             -0.001793   \n",
       "3           1.127383            0.000431             -0.009887   \n",
       "4           1.099219            0.001304             -0.005782   \n",
       "5           1.088726            0.000484             -0.005873   \n",
       "6           1.142597           -0.004536             -0.008124   \n",
       "7           1.058158            0.000643             -0.003022   \n",
       "8           1.201930            0.001085              0.008018   \n",
       "9           1.122591           -0.000551             -0.002507   \n",
       "\n",
       "   full_waveform_min  full_waveform_skew  full_waveform_std  ...  \\\n",
       "0          -0.926257            1.123091           0.168382  ...   \n",
       "1          -3.053789            8.539399           0.448065  ...   \n",
       "2          -0.569955            3.847851           0.147708  ...   \n",
       "3          -0.460385            3.331231           0.164943  ...   \n",
       "4          -0.376020            3.705835           0.148803  ...   \n",
       "5          -0.300124            4.351558           0.138428  ...   \n",
       "6          -1.261730           -0.093087           0.295540  ...   \n",
       "7          -0.400153            4.127633           0.146124  ...   \n",
       "8          -1.129869            1.003582           0.204132  ...   \n",
       "9          -1.394709            0.832302           0.171259  ...   \n",
       "\n",
       "   swt_d_3_energy_entropy  swt_d_3_high_power_ratio  swt_d_3_higuchi_fractal  \\\n",
       "0           -49257.007497                  0.165148                 1.603244   \n",
       "1           -29308.911535                  0.101234                 1.681422   \n",
       "2           -50412.226570                  0.140089                 1.652927   \n",
       "3           -47704.749291                  0.160745                 1.552763   \n",
       "4           -51189.042010                  0.140490                 1.629942   \n",
       "5           -53693.449870                  0.163446                 1.598554   \n",
       "6           -42018.523028                  0.107055                 1.604812   \n",
       "7          -107837.970823                  0.218004                 1.514557   \n",
       "8           -43041.145948                  0.145105                 1.659092   \n",
       "9           -99939.554307                  0.162480                 1.610238   \n",
       "\n",
       "   swt_d_3_low_power_ratio  swt_d_3_med_power_ratio  swt_d_4_energy_entropy  \\\n",
       "0                 0.861031                 0.106582           -67495.761089   \n",
       "1                 0.818841                 0.103232           -47754.339321   \n",
       "2                 0.891568                 0.118739           -68218.166248   \n",
       "3                 0.713365                 0.086996           -66148.672913   \n",
       "4                 0.619724                 0.101542           -69002.674228   \n",
       "5                 0.730220                 0.104961           -72170.234663   \n",
       "6                 0.598398                 0.115260           -60561.603002   \n",
       "7                 0.832327                 0.092834          -144336.658169   \n",
       "8                 0.654917                 0.133569           -60798.823282   \n",
       "9                 0.847671                 0.107021          -136124.687363   \n",
       "\n",
       "   swt_d_4_high_power_ratio  swt_d_4_higuchi_fractal  swt_d_4_low_power_ratio  \\\n",
       "0                  0.112211                 1.745630                 0.876491   \n",
       "1                  0.122283                 1.850699                 0.833149   \n",
       "2                  0.098615                 1.796991                 0.905369   \n",
       "3                  0.106267                 1.703458                 0.729247   \n",
       "4                  0.097502                 1.784161                 0.633528   \n",
       "5                  0.110092                 1.743084                 0.746238   \n",
       "6                  0.098163                 1.776238                 0.612691   \n",
       "7                  0.156514                 1.640446                 0.846448   \n",
       "8                  0.101870                 1.794644                 0.667569   \n",
       "9                  0.113337                 1.756203                 0.861335   \n",
       "\n",
       "   swt_d_4_med_power_ratio  \n",
       "0                 0.139795  \n",
       "1                 0.127526  \n",
       "2                 0.160293  \n",
       "3                 0.107630  \n",
       "4                 0.139208  \n",
       "5                 0.136632  \n",
       "6                 0.103083  \n",
       "7                 0.105700  \n",
       "8                 0.176868  \n",
       "9                 0.142411  \n",
       "\n",
       "[10 rows x 50 columns]"
      ]
     },
     "execution_count": 6,
     "metadata": {},
     "output_type": "execute_result"
    }
   ],
   "source": [
    "# Get features DataFrame\n",
    "features = ecg_features.get_features()\n",
    "\n",
    "# View DataFrame\n",
    "features.head(10)"
   ]
  },
  {
   "cell_type": "markdown",
   "metadata": {
    "collapsed": true
   },
   "source": [
    "<br>\n",
    "# Save Features"
   ]
  },
  {
   "cell_type": "code",
   "execution_count": 7,
   "metadata": {},
   "outputs": [],
   "source": [
    "# Save features DataFrame to CSV\n",
    "features.to_csv(os.path.join(feature_path, 'features.csv'), index=False)"
   ]
  },
  {
   "cell_type": "code",
   "execution_count": null,
   "metadata": {},
   "outputs": [],
   "source": []
  },
  {
   "cell_type": "code",
   "execution_count": 20,
   "metadata": {},
   "outputs": [
    {
     "data": {
      "text/plain": [
       "Index(['file_name', 'label', 'full_waveform_duration',\n",
       "       'full_waveform_kurtosis', 'full_waveform_max', 'full_waveform_mean',\n",
       "       'full_waveform_median', 'full_waveform_min', 'full_waveform_skew',\n",
       "       'full_waveform_std', 'swt_a_1_energy_entropy',\n",
       "       'swt_a_1_high_power_ratio', 'swt_a_1_higuchi_fractal',\n",
       "       'swt_a_1_low_power_ratio', 'swt_a_1_med_power_ratio',\n",
       "       'swt_a_2_energy_entropy', 'swt_a_2_high_power_ratio',\n",
       "       'swt_a_2_higuchi_fractal', 'swt_a_2_low_power_ratio',\n",
       "       'swt_a_2_med_power_ratio', 'swt_a_3_energy_entropy',\n",
       "       'swt_a_3_high_power_ratio', 'swt_a_3_higuchi_fractal',\n",
       "       'swt_a_3_low_power_ratio', 'swt_a_3_med_power_ratio',\n",
       "       'swt_a_4_energy_entropy', 'swt_a_4_high_power_ratio',\n",
       "       'swt_a_4_higuchi_fractal', 'swt_a_4_low_power_ratio',\n",
       "       'swt_a_4_med_power_ratio', 'swt_d_1_energy_entropy',\n",
       "       'swt_d_1_high_power_ratio', 'swt_d_1_higuchi_fractal',\n",
       "       'swt_d_1_low_power_ratio', 'swt_d_1_med_power_ratio',\n",
       "       'swt_d_2_energy_entropy', 'swt_d_2_high_power_ratio',\n",
       "       'swt_d_2_higuchi_fractal', 'swt_d_2_low_power_ratio',\n",
       "       'swt_d_2_med_power_ratio', 'swt_d_3_energy_entropy',\n",
       "       'swt_d_3_high_power_ratio', 'swt_d_3_higuchi_fractal',\n",
       "       'swt_d_3_low_power_ratio', 'swt_d_3_med_power_ratio',\n",
       "       'swt_d_4_energy_entropy', 'swt_d_4_high_power_ratio',\n",
       "       'swt_d_4_higuchi_fractal', 'swt_d_4_low_power_ratio',\n",
       "       'swt_d_4_med_power_ratio'],\n",
       "      dtype='object')"
      ]
     },
     "execution_count": 20,
     "metadata": {},
     "output_type": "execute_result"
    }
   ],
   "source": [
    "features.columns"
   ]
  },
  {
   "cell_type": "code",
   "execution_count": null,
   "metadata": {},
   "outputs": [],
   "source": []
  },
  {
   "cell_type": "code",
   "execution_count": 24,
   "metadata": {},
   "outputs": [],
   "source": [
    "import numpy as np\n",
    "ecg = np.load('C:/Users/yoonji811/OneDrive - 한양대학교/HYUscec/15.산학프로젝트/미니프로젝트/ECG5_reshape.npy')"
   ]
  },
  {
   "cell_type": "code",
   "execution_count": 25,
   "metadata": {},
   "outputs": [
    {
     "data": {
      "text/plain": [
       "(5000, 12, 5000, 1)"
      ]
     },
     "execution_count": 25,
     "metadata": {},
     "output_type": "execute_result"
    }
   ],
   "source": [
    "np.shape(ecg)"
   ]
  },
  {
   "cell_type": "code",
   "execution_count": 28,
   "metadata": {},
   "outputs": [
    {
     "data": {
      "text/plain": [
       "(5000, 12, 5000)"
      ]
     },
     "execution_count": 28,
     "metadata": {},
     "output_type": "execute_result"
    }
   ],
   "source": [
    "ecg = ecg[:,:,:,0]\n",
    "np.shape(ecg)"
   ]
  },
  {
   "cell_type": "code",
   "execution_count": 29,
   "metadata": {},
   "outputs": [
    {
     "data": {
      "text/plain": [
       "(12, 5000)"
      ]
     },
     "execution_count": 29,
     "metadata": {},
     "output_type": "execute_result"
    }
   ],
   "source": [
    "np.shape(ecg[0])"
   ]
  },
  {
   "cell_type": "code",
   "execution_count": 33,
   "metadata": {},
   "outputs": [
    {
     "data": {
      "text/plain": [
       "array([[-253.76, -253.76, -253.76, ...,  -34.16,   24.4 ,    4.88],\n",
       "       [ 263.52,  263.52,  263.52, ...,  -68.32,  -48.8 ,  -34.16],\n",
       "       [ 517.28,  517.28,  517.28, ...,  -34.16,  -73.2 ,  -39.04],\n",
       "       ...,\n",
       "       [ 810.08,  810.08,  810.08, ..., -204.96, -200.08, -170.8 ],\n",
       "       [ 810.08,  810.08,  810.08, ..., -200.08, -195.2 , -165.92],\n",
       "       [ 527.04,  527.04,  527.04, ...,  102.48,   92.72,  112.24]])"
      ]
     },
     "execution_count": 33,
     "metadata": {},
     "output_type": "execute_result"
    }
   ],
   "source": [
    "ecg[0]"
   ]
  },
  {
   "cell_type": "code",
   "execution_count": 35,
   "metadata": {},
   "outputs": [
    {
     "data": {
      "text/plain": [
       "array([[-253.76, -253.76, -253.76, ...,  -34.16,   24.4 ,    4.88],\n",
       "       [ 517.28,  517.28,  517.28, ...,  -34.16,  -73.2 ,  -39.04],\n",
       "       [ 527.04,  527.04,  527.04, ...,  102.48,   92.72,  112.24]])"
      ]
     },
     "execution_count": 35,
     "metadata": {},
     "output_type": "execute_result"
    }
   ],
   "source": [
    "ecg[0][[0,2,-1],:]"
   ]
  },
  {
   "cell_type": "code",
   "execution_count": 36,
   "metadata": {},
   "outputs": [],
   "source": [
    "a = [0,2,-1]"
   ]
  },
  {
   "cell_type": "code",
   "execution_count": 37,
   "metadata": {},
   "outputs": [
    {
     "data": {
      "text/plain": [
       "array([[-253.76, -253.76, -253.76, ...,  -34.16,   24.4 ,    4.88],\n",
       "       [ 517.28,  517.28,  517.28, ...,  -34.16,  -73.2 ,  -39.04],\n",
       "       [ 527.04,  527.04,  527.04, ...,  102.48,   92.72,  112.24]])"
      ]
     },
     "execution_count": 37,
     "metadata": {},
     "output_type": "execute_result"
    }
   ],
   "source": [
    "ecg[0][a,:]"
   ]
  },
  {
   "cell_type": "code",
   "execution_count": 38,
   "metadata": {},
   "outputs": [
    {
     "name": "stdout",
     "output_type": "stream",
     "text": [
      "[-253.76 -253.76 -253.76 ...  -34.16   24.4     4.88]\n",
      "[517.28 517.28 517.28 ... -34.16 -73.2  -39.04]\n",
      "[527.04 527.04 527.04 ... 102.48  92.72 112.24]\n"
     ]
    }
   ],
   "source": [
    "for i in ecg[0][a,:]:\n",
    "    print(i)"
   ]
  },
  {
   "cell_type": "code",
   "execution_count": 40,
   "metadata": {},
   "outputs": [
    {
     "data": {
      "text/plain": [
       "12"
      ]
     },
     "execution_count": 40,
     "metadata": {},
     "output_type": "execute_result"
    }
   ],
   "source": [
    "len(ecg[0])"
   ]
  },
  {
   "cell_type": "code",
   "execution_count": 42,
   "metadata": {},
   "outputs": [],
   "source": [
    "b = [i for i in range(len(ecg[0]))]"
   ]
  },
  {
   "cell_type": "code",
   "execution_count": 44,
   "metadata": {},
   "outputs": [
    {
     "data": {
      "text/plain": [
       "array([[ True,  True,  True, ...,  True,  True,  True],\n",
       "       [ True,  True,  True, ...,  True,  True,  True],\n",
       "       [ True,  True,  True, ...,  True,  True,  True],\n",
       "       ...,\n",
       "       [ True,  True,  True, ...,  True,  True,  True],\n",
       "       [ True,  True,  True, ...,  True,  True,  True],\n",
       "       [ True,  True,  True, ...,  True,  True,  True]])"
      ]
     },
     "execution_count": 44,
     "metadata": {},
     "output_type": "execute_result"
    }
   ],
   "source": [
    "ecg[0] == ecg[0][b,:]"
   ]
  },
  {
   "cell_type": "code",
   "execution_count": 46,
   "metadata": {},
   "outputs": [
    {
     "name": "stdout",
     "output_type": "stream",
     "text": [
      "0\n",
      "[-253.76 -253.76 -253.76 ...  -34.16   24.4     4.88]\n",
      "2\n",
      "[517.28 517.28 517.28 ... -34.16 -73.2  -39.04]\n",
      "-1\n",
      "[527.04 527.04 527.04 ... 102.48  92.72 112.24]\n"
     ]
    }
   ],
   "source": [
    "for i,j in zip(a, ecg[0][a,:]):\n",
    "    print(i)\n",
    "    print(j)"
   ]
  },
  {
   "cell_type": "code",
   "execution_count": 52,
   "metadata": {},
   "outputs": [
    {
     "data": {
      "text/plain": [
       "(2, 12, 5000)"
      ]
     },
     "execution_count": 52,
     "metadata": {},
     "output_type": "execute_result"
    }
   ],
   "source": [
    "np.shape(ecg[0:2,:,:])"
   ]
  },
  {
   "cell_type": "code",
   "execution_count": 141,
   "metadata": {},
   "outputs": [
    {
     "data": {
      "text/html": [
       "<div>\n",
       "<style scoped>\n",
       "    .dataframe tbody tr th:only-of-type {\n",
       "        vertical-align: middle;\n",
       "    }\n",
       "\n",
       "    .dataframe tbody tr th {\n",
       "        vertical-align: top;\n",
       "    }\n",
       "\n",
       "    .dataframe thead th {\n",
       "        text-align: right;\n",
       "    }\n",
       "</style>\n",
       "<table border=\"1\" class=\"dataframe\">\n",
       "  <thead>\n",
       "    <tr style=\"text-align: right;\">\n",
       "      <th></th>\n",
       "      <th>patientIdx</th>\n",
       "    </tr>\n",
       "  </thead>\n",
       "  <tbody>\n",
       "    <tr>\n",
       "      <th>0</th>\n",
       "      <td>0</td>\n",
       "    </tr>\n",
       "    <tr>\n",
       "      <th>1</th>\n",
       "      <td>1</td>\n",
       "    </tr>\n",
       "    <tr>\n",
       "      <th>2</th>\n",
       "      <td>2</td>\n",
       "    </tr>\n",
       "    <tr>\n",
       "      <th>3</th>\n",
       "      <td>3</td>\n",
       "    </tr>\n",
       "    <tr>\n",
       "      <th>4</th>\n",
       "      <td>4</td>\n",
       "    </tr>\n",
       "  </tbody>\n",
       "</table>\n",
       "</div>"
      ],
      "text/plain": [
       "   patientIdx\n",
       "0           0\n",
       "1           1\n",
       "2           2\n",
       "3           3\n",
       "4           4"
      ]
     },
     "execution_count": 141,
     "metadata": {},
     "output_type": "execute_result"
    }
   ],
   "source": [
    "labels = pd.DataFrame({'patientIdx':[0,1,2,3,4]})\n",
    "labels"
   ]
  },
  {
   "cell_type": "code",
   "execution_count": 154,
   "metadata": {},
   "outputs": [
    {
     "name": "stdout",
     "output_type": "stream",
     "text": [
      "Finished extracting features from 0th patient | Extraction time: 0.007 minutes\n",
      "Finished extracting features from 1th patient | Extraction time: 0.007 minutes\n",
      "Finished extracting features from 2th patient | Extraction time: 0.007 minutes\n",
      "Finished extracting features from 3th patient | Extraction time: 0.006 minutes\n",
      "Finished extracting features from 4th patient | Extraction time: 0.006 minutes\n"
     ]
    }
   ],
   "source": [
    "# Instantiate\n",
    "fs = 500\n",
    "ecg_features = Features(ecgarray = ecg[5:10,:,:],leads=[0,2,4], fs=fs, feature_groups=['full_waveform_features'])\n",
    "\n",
    "# Calculate ECG features\n",
    "ecg_features.extract_features(\n",
    "    filter_bandwidth=[3, 45], n_signals=None, show=True, \n",
    "    labels=labels, normalize=True, polarity_check=True,\n",
    "    template_before=0.25, template_after=0.4\n",
    ")"
   ]
  },
  {
   "cell_type": "code",
   "execution_count": 155,
   "metadata": {},
   "outputs": [
    {
     "data": {
      "text/html": [
       "<div>\n",
       "<style scoped>\n",
       "    .dataframe tbody tr th:only-of-type {\n",
       "        vertical-align: middle;\n",
       "    }\n",
       "\n",
       "    .dataframe tbody tr th {\n",
       "        vertical-align: top;\n",
       "    }\n",
       "\n",
       "    .dataframe thead th {\n",
       "        text-align: right;\n",
       "    }\n",
       "</style>\n",
       "<table border=\"1\" class=\"dataframe\">\n",
       "  <thead>\n",
       "    <tr style=\"text-align: right;\">\n",
       "      <th></th>\n",
       "      <th>patientIdx</th>\n",
       "      <th>full_waveform_duration_0</th>\n",
       "      <th>full_waveform_duration_2</th>\n",
       "      <th>full_waveform_duration_4</th>\n",
       "      <th>full_waveform_kurtosis_0</th>\n",
       "      <th>full_waveform_kurtosis_2</th>\n",
       "      <th>full_waveform_kurtosis_4</th>\n",
       "      <th>full_waveform_max_0</th>\n",
       "      <th>full_waveform_max_2</th>\n",
       "      <th>full_waveform_max_4</th>\n",
       "      <th>...</th>\n",
       "      <th>swt_d_4_high_power_ratio_4</th>\n",
       "      <th>swt_d_4_higuchi_fractal_0</th>\n",
       "      <th>swt_d_4_higuchi_fractal_2</th>\n",
       "      <th>swt_d_4_higuchi_fractal_4</th>\n",
       "      <th>swt_d_4_low_power_ratio_0</th>\n",
       "      <th>swt_d_4_low_power_ratio_2</th>\n",
       "      <th>swt_d_4_low_power_ratio_4</th>\n",
       "      <th>swt_d_4_med_power_ratio_0</th>\n",
       "      <th>swt_d_4_med_power_ratio_2</th>\n",
       "      <th>swt_d_4_med_power_ratio_4</th>\n",
       "    </tr>\n",
       "  </thead>\n",
       "  <tbody>\n",
       "    <tr>\n",
       "      <th>0</th>\n",
       "      <td>0</td>\n",
       "      <td>9.996</td>\n",
       "      <td>9.996</td>\n",
       "      <td>9.996</td>\n",
       "      <td>25.890774</td>\n",
       "      <td>14.118498</td>\n",
       "      <td>22.179833</td>\n",
       "      <td>1.081637</td>\n",
       "      <td>1.294737</td>\n",
       "      <td>1.106111</td>\n",
       "      <td>...</td>\n",
       "      <td>0.095438</td>\n",
       "      <td>1.355721</td>\n",
       "      <td>1.401414</td>\n",
       "      <td>1.380381</td>\n",
       "      <td>0.656938</td>\n",
       "      <td>0.709017</td>\n",
       "      <td>0.662028</td>\n",
       "      <td>0.141835</td>\n",
       "      <td>0.183509</td>\n",
       "      <td>0.151556</td>\n",
       "    </tr>\n",
       "    <tr>\n",
       "      <th>1</th>\n",
       "      <td>1</td>\n",
       "      <td>9.996</td>\n",
       "      <td>9.996</td>\n",
       "      <td>9.996</td>\n",
       "      <td>15.714028</td>\n",
       "      <td>5.638074</td>\n",
       "      <td>10.019322</td>\n",
       "      <td>1.124860</td>\n",
       "      <td>1.551256</td>\n",
       "      <td>1.205381</td>\n",
       "      <td>...</td>\n",
       "      <td>0.120126</td>\n",
       "      <td>1.409789</td>\n",
       "      <td>1.438883</td>\n",
       "      <td>1.425172</td>\n",
       "      <td>0.738589</td>\n",
       "      <td>0.617857</td>\n",
       "      <td>0.700774</td>\n",
       "      <td>0.250887</td>\n",
       "      <td>0.202837</td>\n",
       "      <td>0.190831</td>\n",
       "    </tr>\n",
       "    <tr>\n",
       "      <th>2</th>\n",
       "      <td>2</td>\n",
       "      <td>9.996</td>\n",
       "      <td>9.996</td>\n",
       "      <td>9.996</td>\n",
       "      <td>23.246216</td>\n",
       "      <td>18.160616</td>\n",
       "      <td>23.851977</td>\n",
       "      <td>1.071760</td>\n",
       "      <td>1.162867</td>\n",
       "      <td>1.105535</td>\n",
       "      <td>...</td>\n",
       "      <td>0.110093</td>\n",
       "      <td>1.420294</td>\n",
       "      <td>1.419038</td>\n",
       "      <td>1.416991</td>\n",
       "      <td>0.632336</td>\n",
       "      <td>0.672839</td>\n",
       "      <td>0.634655</td>\n",
       "      <td>0.173612</td>\n",
       "      <td>0.183041</td>\n",
       "      <td>0.172685</td>\n",
       "    </tr>\n",
       "    <tr>\n",
       "      <th>3</th>\n",
       "      <td>3</td>\n",
       "      <td>9.996</td>\n",
       "      <td>9.996</td>\n",
       "      <td>9.996</td>\n",
       "      <td>28.377960</td>\n",
       "      <td>34.498405</td>\n",
       "      <td>34.894775</td>\n",
       "      <td>1.044313</td>\n",
       "      <td>1.025868</td>\n",
       "      <td>1.040858</td>\n",
       "      <td>...</td>\n",
       "      <td>0.108602</td>\n",
       "      <td>1.409326</td>\n",
       "      <td>1.390855</td>\n",
       "      <td>1.398828</td>\n",
       "      <td>0.701955</td>\n",
       "      <td>0.689230</td>\n",
       "      <td>0.749390</td>\n",
       "      <td>0.225016</td>\n",
       "      <td>0.174020</td>\n",
       "      <td>0.218728</td>\n",
       "    </tr>\n",
       "    <tr>\n",
       "      <th>4</th>\n",
       "      <td>4</td>\n",
       "      <td>9.996</td>\n",
       "      <td>9.996</td>\n",
       "      <td>9.996</td>\n",
       "      <td>18.937197</td>\n",
       "      <td>31.892220</td>\n",
       "      <td>22.217475</td>\n",
       "      <td>1.128272</td>\n",
       "      <td>1.028866</td>\n",
       "      <td>1.108446</td>\n",
       "      <td>...</td>\n",
       "      <td>0.108794</td>\n",
       "      <td>1.373611</td>\n",
       "      <td>1.382656</td>\n",
       "      <td>1.382840</td>\n",
       "      <td>0.726107</td>\n",
       "      <td>0.699910</td>\n",
       "      <td>0.786231</td>\n",
       "      <td>0.202695</td>\n",
       "      <td>0.239776</td>\n",
       "      <td>0.235114</td>\n",
       "    </tr>\n",
       "  </tbody>\n",
       "</table>\n",
       "<p>5 rows × 145 columns</p>\n",
       "</div>"
      ],
      "text/plain": [
       "   patientIdx  full_waveform_duration_0  full_waveform_duration_2  \\\n",
       "0           0                     9.996                     9.996   \n",
       "1           1                     9.996                     9.996   \n",
       "2           2                     9.996                     9.996   \n",
       "3           3                     9.996                     9.996   \n",
       "4           4                     9.996                     9.996   \n",
       "\n",
       "   full_waveform_duration_4  full_waveform_kurtosis_0  \\\n",
       "0                     9.996                 25.890774   \n",
       "1                     9.996                 15.714028   \n",
       "2                     9.996                 23.246216   \n",
       "3                     9.996                 28.377960   \n",
       "4                     9.996                 18.937197   \n",
       "\n",
       "   full_waveform_kurtosis_2  full_waveform_kurtosis_4  full_waveform_max_0  \\\n",
       "0                 14.118498                 22.179833             1.081637   \n",
       "1                  5.638074                 10.019322             1.124860   \n",
       "2                 18.160616                 23.851977             1.071760   \n",
       "3                 34.498405                 34.894775             1.044313   \n",
       "4                 31.892220                 22.217475             1.128272   \n",
       "\n",
       "   full_waveform_max_2  full_waveform_max_4  ...  swt_d_4_high_power_ratio_4  \\\n",
       "0             1.294737             1.106111  ...                    0.095438   \n",
       "1             1.551256             1.205381  ...                    0.120126   \n",
       "2             1.162867             1.105535  ...                    0.110093   \n",
       "3             1.025868             1.040858  ...                    0.108602   \n",
       "4             1.028866             1.108446  ...                    0.108794   \n",
       "\n",
       "   swt_d_4_higuchi_fractal_0  swt_d_4_higuchi_fractal_2  \\\n",
       "0                   1.355721                   1.401414   \n",
       "1                   1.409789                   1.438883   \n",
       "2                   1.420294                   1.419038   \n",
       "3                   1.409326                   1.390855   \n",
       "4                   1.373611                   1.382656   \n",
       "\n",
       "   swt_d_4_higuchi_fractal_4  swt_d_4_low_power_ratio_0  \\\n",
       "0                   1.380381                   0.656938   \n",
       "1                   1.425172                   0.738589   \n",
       "2                   1.416991                   0.632336   \n",
       "3                   1.398828                   0.701955   \n",
       "4                   1.382840                   0.726107   \n",
       "\n",
       "   swt_d_4_low_power_ratio_2  swt_d_4_low_power_ratio_4  \\\n",
       "0                   0.709017                   0.662028   \n",
       "1                   0.617857                   0.700774   \n",
       "2                   0.672839                   0.634655   \n",
       "3                   0.689230                   0.749390   \n",
       "4                   0.699910                   0.786231   \n",
       "\n",
       "   swt_d_4_med_power_ratio_0  swt_d_4_med_power_ratio_2  \\\n",
       "0                   0.141835                   0.183509   \n",
       "1                   0.250887                   0.202837   \n",
       "2                   0.173612                   0.183041   \n",
       "3                   0.225016                   0.174020   \n",
       "4                   0.202695                   0.239776   \n",
       "\n",
       "   swt_d_4_med_power_ratio_4  \n",
       "0                   0.151556  \n",
       "1                   0.190831  \n",
       "2                   0.172685  \n",
       "3                   0.218728  \n",
       "4                   0.235114  \n",
       "\n",
       "[5 rows x 145 columns]"
      ]
     },
     "execution_count": 155,
     "metadata": {},
     "output_type": "execute_result"
    }
   ],
   "source": [
    "# Get features DataFrame\n",
    "features = ecg_features.get_features()\n",
    "\n",
    "# View DataFrame\n",
    "features"
   ]
  },
  {
   "cell_type": "code",
   "execution_count": null,
   "metadata": {},
   "outputs": [],
   "source": []
  },
  {
   "cell_type": "code",
   "execution_count": null,
   "metadata": {},
   "outputs": [],
   "source": []
  },
  {
   "cell_type": "code",
   "execution_count": null,
   "metadata": {},
   "outputs": [],
   "source": []
  },
  {
   "cell_type": "code",
   "execution_count": 148,
   "metadata": {},
   "outputs": [
    {
     "data": {
      "text/html": [
       "<div>\n",
       "<style scoped>\n",
       "    .dataframe tbody tr th:only-of-type {\n",
       "        vertical-align: middle;\n",
       "    }\n",
       "\n",
       "    .dataframe tbody tr th {\n",
       "        vertical-align: top;\n",
       "    }\n",
       "\n",
       "    .dataframe thead th {\n",
       "        text-align: right;\n",
       "    }\n",
       "</style>\n",
       "<table border=\"1\" class=\"dataframe\">\n",
       "  <thead>\n",
       "    <tr style=\"text-align: right;\">\n",
       "      <th></th>\n",
       "      <th>full_waveform_duration_9</th>\n",
       "      <th>full_waveform_kurtosis_0</th>\n",
       "      <th>full_waveform_kurtosis_1</th>\n",
       "      <th>full_waveform_kurtosis_10</th>\n",
       "      <th>full_waveform_kurtosis_11</th>\n",
       "      <th>full_waveform_kurtosis_2</th>\n",
       "      <th>full_waveform_kurtosis_3</th>\n",
       "      <th>full_waveform_kurtosis_4</th>\n",
       "      <th>full_waveform_kurtosis_5</th>\n",
       "      <th>full_waveform_kurtosis_6</th>\n",
       "      <th>...</th>\n",
       "      <th>swt_d_4_med_power_ratio_10</th>\n",
       "      <th>swt_d_4_med_power_ratio_11</th>\n",
       "      <th>swt_d_4_med_power_ratio_2</th>\n",
       "      <th>swt_d_4_med_power_ratio_3</th>\n",
       "      <th>swt_d_4_med_power_ratio_4</th>\n",
       "      <th>swt_d_4_med_power_ratio_5</th>\n",
       "      <th>swt_d_4_med_power_ratio_6</th>\n",
       "      <th>swt_d_4_med_power_ratio_7</th>\n",
       "      <th>swt_d_4_med_power_ratio_8</th>\n",
       "      <th>swt_d_4_med_power_ratio_9</th>\n",
       "    </tr>\n",
       "  </thead>\n",
       "  <tbody>\n",
       "    <tr>\n",
       "      <th>0</th>\n",
       "      <td>9.996</td>\n",
       "      <td>25.890774</td>\n",
       "      <td>28.004396</td>\n",
       "      <td>26.914884</td>\n",
       "      <td>27.947339</td>\n",
       "      <td>14.118498</td>\n",
       "      <td>27.192936</td>\n",
       "      <td>22.179833</td>\n",
       "      <td>27.361911</td>\n",
       "      <td>28.216905</td>\n",
       "      <td>...</td>\n",
       "      <td>0.128912</td>\n",
       "      <td>0.129015</td>\n",
       "      <td>0.183509</td>\n",
       "      <td>0.137108</td>\n",
       "      <td>0.151556</td>\n",
       "      <td>0.176394</td>\n",
       "      <td>0.217587</td>\n",
       "      <td>0.088591</td>\n",
       "      <td>0.088258</td>\n",
       "      <td>0.118667</td>\n",
       "    </tr>\n",
       "    <tr>\n",
       "      <th>1</th>\n",
       "      <td>9.996</td>\n",
       "      <td>15.714028</td>\n",
       "      <td>15.912126</td>\n",
       "      <td>17.050485</td>\n",
       "      <td>20.207347</td>\n",
       "      <td>5.638074</td>\n",
       "      <td>18.277523</td>\n",
       "      <td>10.019322</td>\n",
       "      <td>9.158388</td>\n",
       "      <td>12.371678</td>\n",
       "      <td>...</td>\n",
       "      <td>0.226720</td>\n",
       "      <td>0.230716</td>\n",
       "      <td>0.202837</td>\n",
       "      <td>0.283951</td>\n",
       "      <td>0.190831</td>\n",
       "      <td>0.355822</td>\n",
       "      <td>0.237076</td>\n",
       "      <td>0.174085</td>\n",
       "      <td>0.195233</td>\n",
       "      <td>0.221504</td>\n",
       "    </tr>\n",
       "    <tr>\n",
       "      <th>2</th>\n",
       "      <td>9.996</td>\n",
       "      <td>23.246216</td>\n",
       "      <td>18.843591</td>\n",
       "      <td>26.452645</td>\n",
       "      <td>25.794204</td>\n",
       "      <td>18.160616</td>\n",
       "      <td>21.681886</td>\n",
       "      <td>23.851977</td>\n",
       "      <td>11.127415</td>\n",
       "      <td>11.261527</td>\n",
       "      <td>...</td>\n",
       "      <td>0.172698</td>\n",
       "      <td>0.165214</td>\n",
       "      <td>0.183041</td>\n",
       "      <td>0.180251</td>\n",
       "      <td>0.172685</td>\n",
       "      <td>0.266865</td>\n",
       "      <td>0.248538</td>\n",
       "      <td>0.088999</td>\n",
       "      <td>0.196014</td>\n",
       "      <td>0.178352</td>\n",
       "    </tr>\n",
       "    <tr>\n",
       "      <th>3</th>\n",
       "      <td>9.996</td>\n",
       "      <td>28.377960</td>\n",
       "      <td>27.113252</td>\n",
       "      <td>32.289533</td>\n",
       "      <td>34.416925</td>\n",
       "      <td>34.498405</td>\n",
       "      <td>29.360963</td>\n",
       "      <td>34.894775</td>\n",
       "      <td>29.212189</td>\n",
       "      <td>14.769551</td>\n",
       "      <td>...</td>\n",
       "      <td>0.185212</td>\n",
       "      <td>0.184520</td>\n",
       "      <td>0.174020</td>\n",
       "      <td>0.175976</td>\n",
       "      <td>0.218728</td>\n",
       "      <td>0.146089</td>\n",
       "      <td>0.202322</td>\n",
       "      <td>0.147469</td>\n",
       "      <td>0.103570</td>\n",
       "      <td>0.161166</td>\n",
       "    </tr>\n",
       "    <tr>\n",
       "      <th>4</th>\n",
       "      <td>9.996</td>\n",
       "      <td>18.937197</td>\n",
       "      <td>23.625787</td>\n",
       "      <td>29.473463</td>\n",
       "      <td>28.432143</td>\n",
       "      <td>31.892220</td>\n",
       "      <td>21.001206</td>\n",
       "      <td>22.217475</td>\n",
       "      <td>27.414908</td>\n",
       "      <td>21.340945</td>\n",
       "      <td>...</td>\n",
       "      <td>0.182433</td>\n",
       "      <td>0.180996</td>\n",
       "      <td>0.239776</td>\n",
       "      <td>0.187510</td>\n",
       "      <td>0.235114</td>\n",
       "      <td>0.198872</td>\n",
       "      <td>0.125666</td>\n",
       "      <td>0.161668</td>\n",
       "      <td>0.181775</td>\n",
       "      <td>0.188786</td>\n",
       "    </tr>\n",
       "  </tbody>\n",
       "</table>\n",
       "<p>5 rows × 565 columns</p>\n",
       "</div>"
      ],
      "text/plain": [
       "   full_waveform_duration_9  full_waveform_kurtosis_0  \\\n",
       "0                     9.996                 25.890774   \n",
       "1                     9.996                 15.714028   \n",
       "2                     9.996                 23.246216   \n",
       "3                     9.996                 28.377960   \n",
       "4                     9.996                 18.937197   \n",
       "\n",
       "   full_waveform_kurtosis_1  full_waveform_kurtosis_10  \\\n",
       "0                 28.004396                  26.914884   \n",
       "1                 15.912126                  17.050485   \n",
       "2                 18.843591                  26.452645   \n",
       "3                 27.113252                  32.289533   \n",
       "4                 23.625787                  29.473463   \n",
       "\n",
       "   full_waveform_kurtosis_11  full_waveform_kurtosis_2  \\\n",
       "0                  27.947339                 14.118498   \n",
       "1                  20.207347                  5.638074   \n",
       "2                  25.794204                 18.160616   \n",
       "3                  34.416925                 34.498405   \n",
       "4                  28.432143                 31.892220   \n",
       "\n",
       "   full_waveform_kurtosis_3  full_waveform_kurtosis_4  \\\n",
       "0                 27.192936                 22.179833   \n",
       "1                 18.277523                 10.019322   \n",
       "2                 21.681886                 23.851977   \n",
       "3                 29.360963                 34.894775   \n",
       "4                 21.001206                 22.217475   \n",
       "\n",
       "   full_waveform_kurtosis_5  full_waveform_kurtosis_6  ...  \\\n",
       "0                 27.361911                 28.216905  ...   \n",
       "1                  9.158388                 12.371678  ...   \n",
       "2                 11.127415                 11.261527  ...   \n",
       "3                 29.212189                 14.769551  ...   \n",
       "4                 27.414908                 21.340945  ...   \n",
       "\n",
       "   swt_d_4_med_power_ratio_10  swt_d_4_med_power_ratio_11  \\\n",
       "0                    0.128912                    0.129015   \n",
       "1                    0.226720                    0.230716   \n",
       "2                    0.172698                    0.165214   \n",
       "3                    0.185212                    0.184520   \n",
       "4                    0.182433                    0.180996   \n",
       "\n",
       "   swt_d_4_med_power_ratio_2  swt_d_4_med_power_ratio_3  \\\n",
       "0                   0.183509                   0.137108   \n",
       "1                   0.202837                   0.283951   \n",
       "2                   0.183041                   0.180251   \n",
       "3                   0.174020                   0.175976   \n",
       "4                   0.239776                   0.187510   \n",
       "\n",
       "   swt_d_4_med_power_ratio_4  swt_d_4_med_power_ratio_5  \\\n",
       "0                   0.151556                   0.176394   \n",
       "1                   0.190831                   0.355822   \n",
       "2                   0.172685                   0.266865   \n",
       "3                   0.218728                   0.146089   \n",
       "4                   0.235114                   0.198872   \n",
       "\n",
       "   swt_d_4_med_power_ratio_6  swt_d_4_med_power_ratio_7  \\\n",
       "0                   0.217587                   0.088591   \n",
       "1                   0.237076                   0.174085   \n",
       "2                   0.248538                   0.088999   \n",
       "3                   0.202322                   0.147469   \n",
       "4                   0.125666                   0.161668   \n",
       "\n",
       "   swt_d_4_med_power_ratio_8  swt_d_4_med_power_ratio_9  \n",
       "0                   0.088258                   0.118667  \n",
       "1                   0.195233                   0.221504  \n",
       "2                   0.196014                   0.178352  \n",
       "3                   0.103570                   0.161166  \n",
       "4                   0.181775                   0.188786  \n",
       "\n",
       "[5 rows x 565 columns]"
      ]
     },
     "execution_count": 148,
     "metadata": {},
     "output_type": "execute_result"
    }
   ],
   "source": [
    "features.iloc[:,12:]"
   ]
  },
  {
   "cell_type": "code",
   "execution_count": 138,
   "metadata": {},
   "outputs": [
    {
     "data": {
      "text/plain": [
       "48.0"
      ]
     },
     "execution_count": 138,
     "metadata": {},
     "output_type": "execute_result"
    }
   ],
   "source": [
    "576/12"
   ]
  },
  {
   "cell_type": "code",
   "execution_count": 137,
   "metadata": {},
   "outputs": [
    {
     "data": {
      "text/plain": [
       "Index(['patientIdx', 'full_waveform_duration_0', 'full_waveform_duration_1',\n",
       "       'full_waveform_duration_10', 'full_waveform_duration_11',\n",
       "       'full_waveform_duration_2', 'full_waveform_duration_3',\n",
       "       'full_waveform_duration_4', 'full_waveform_duration_5',\n",
       "       'full_waveform_duration_6',\n",
       "       ...\n",
       "       'swt_d_4_med_power_ratio_10', 'swt_d_4_med_power_ratio_11',\n",
       "       'swt_d_4_med_power_ratio_2', 'swt_d_4_med_power_ratio_3',\n",
       "       'swt_d_4_med_power_ratio_4', 'swt_d_4_med_power_ratio_5',\n",
       "       'swt_d_4_med_power_ratio_6', 'swt_d_4_med_power_ratio_7',\n",
       "       'swt_d_4_med_power_ratio_8', 'swt_d_4_med_power_ratio_9'],\n",
       "      dtype='object', length=577)"
      ]
     },
     "execution_count": 137,
     "metadata": {},
     "output_type": "execute_result"
    }
   ],
   "source": [
    "features.columns"
   ]
  },
  {
   "cell_type": "code",
   "execution_count": null,
   "metadata": {},
   "outputs": [],
   "source": []
  },
  {
   "cell_type": "code",
   "execution_count": 124,
   "metadata": {
    "scrolled": true
   },
   "outputs": [
    {
     "data": {
      "text/plain": [
       "ix    0\n",
       "a     1\n",
       "b     2\n",
       "dtype: int64"
      ]
     },
     "execution_count": 124,
     "metadata": {},
     "output_type": "execute_result"
    }
   ],
   "source": [
    "a = pd.Series({'ix':0, 'a':1, 'b':2})\n",
    "a"
   ]
  },
  {
   "cell_type": "code",
   "execution_count": 125,
   "metadata": {},
   "outputs": [
    {
     "data": {
      "text/plain": [
       "id    0\n",
       "c     3\n",
       "d     4\n",
       "dtype: int64"
      ]
     },
     "execution_count": 125,
     "metadata": {},
     "output_type": "execute_result"
    }
   ],
   "source": [
    "b = pd.Series({'id':0, 'c':3,'d':4})\n",
    "b"
   ]
  },
  {
   "cell_type": "code",
   "execution_count": 126,
   "metadata": {},
   "outputs": [],
   "source": [
    "c = pd.Series({'idx':0})"
   ]
  },
  {
   "cell_type": "code",
   "execution_count": 127,
   "metadata": {},
   "outputs": [
    {
     "data": {
      "text/plain": [
       "idx    0\n",
       "dtype: int64"
      ]
     },
     "execution_count": 127,
     "metadata": {},
     "output_type": "execute_result"
    }
   ],
   "source": [
    "c"
   ]
  },
  {
   "cell_type": "code",
   "execution_count": 111,
   "metadata": {},
   "outputs": [],
   "source": [
    "d = pd.DataFrame()"
   ]
  },
  {
   "cell_type": "code",
   "execution_count": 128,
   "metadata": {},
   "outputs": [
    {
     "data": {
      "text/plain": [
       "idx    0\n",
       "ix     0\n",
       "a      1\n",
       "b      2\n",
       "id     0\n",
       "c      3\n",
       "d      4\n",
       "dtype: int64"
      ]
     },
     "execution_count": 128,
     "metadata": {},
     "output_type": "execute_result"
    }
   ],
   "source": [
    "c = c.append(a)\n",
    "c = c.append(b)\n",
    "c"
   ]
  },
  {
   "cell_type": "code",
   "execution_count": 131,
   "metadata": {},
   "outputs": [
    {
     "data": {
      "text/html": [
       "<div>\n",
       "<style scoped>\n",
       "    .dataframe tbody tr th:only-of-type {\n",
       "        vertical-align: middle;\n",
       "    }\n",
       "\n",
       "    .dataframe tbody tr th {\n",
       "        vertical-align: top;\n",
       "    }\n",
       "\n",
       "    .dataframe thead th {\n",
       "        text-align: right;\n",
       "    }\n",
       "</style>\n",
       "<table border=\"1\" class=\"dataframe\">\n",
       "  <thead>\n",
       "    <tr style=\"text-align: right;\">\n",
       "      <th></th>\n",
       "      <th>a</th>\n",
       "      <th>b</th>\n",
       "      <th>c</th>\n",
       "      <th>d</th>\n",
       "      <th>id</th>\n",
       "      <th>idx</th>\n",
       "      <th>ix</th>\n",
       "    </tr>\n",
       "  </thead>\n",
       "  <tbody>\n",
       "    <tr>\n",
       "      <th>0</th>\n",
       "      <td>1.0</td>\n",
       "      <td>2.0</td>\n",
       "      <td>3.0</td>\n",
       "      <td>4.0</td>\n",
       "      <td>0.0</td>\n",
       "      <td>0.0</td>\n",
       "      <td>0.0</td>\n",
       "    </tr>\n",
       "  </tbody>\n",
       "</table>\n",
       "</div>"
      ],
      "text/plain": [
       "     a    b    c    d   id  idx   ix\n",
       "0  1.0  2.0  3.0  4.0  0.0  0.0  0.0"
      ]
     },
     "execution_count": 131,
     "metadata": {},
     "output_type": "execute_result"
    }
   ],
   "source": [
    "d.append(c, ignore_index=True)"
   ]
  },
  {
   "cell_type": "code",
   "execution_count": null,
   "metadata": {},
   "outputs": [],
   "source": []
  }
 ],
 "metadata": {
  "kernelspec": {
   "display_name": "Python 3",
   "language": "python",
   "name": "python3"
  },
  "language_info": {
   "codemirror_mode": {
    "name": "ipython",
    "version": 3
   },
   "file_extension": ".py",
   "mimetype": "text/x-python",
   "name": "python",
   "nbconvert_exporter": "python",
   "pygments_lexer": "ipython3",
   "version": "3.7.3"
  }
 },
 "nbformat": 4,
 "nbformat_minor": 1
}
